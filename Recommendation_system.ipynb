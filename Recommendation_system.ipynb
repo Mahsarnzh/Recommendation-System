{
  "nbformat": 4,
  "nbformat_minor": 0,
  "metadata": {
    "colab": {
      "provenance": []
    },
    "kernelspec": {
      "name": "python3",
      "display_name": "Python 3"
    },
    "language_info": {
      "name": "python"
    }
  },
  "cells": [
    {
      "cell_type": "code",
      "execution_count": 198,
      "metadata": {
        "colab": {
          "base_uri": "https://localhost:8080/"
        },
        "id": "HNhOCOfkILEc",
        "outputId": "ea6abee0-a3d9-4878-85bc-e8c70fbd0cd9"
      },
      "outputs": [
        {
          "output_type": "stream",
          "name": "stdout",
          "text": [
            "Total Reward: 22\n"
          ]
        }
      ],
      "source": [
        "import gym\n",
        "from gym import spaces\n",
        "import numpy as np\n",
        "\n",
        "class CreditKarmaEnv(gym.Env):\n",
        "    def __init__(self):\n",
        "        super(CreditKarmaEnv, self).__init__()\n",
        "\n",
        "        # Define action and observation spaces\n",
        "        self.action_space = spaces.Discrete(3)  # Example: 0 - Do nothing, 1 - Recommend Product A, 2 - Recommend Product B\n",
        "        self.observation_space = spaces.Dict({\n",
        "            'credit_score': spaces.Discrete(800),  # User's credit score\n",
        "            'product_history': spaces.Discrete(2),  # 0 - Not used, 1 - Used\n",
        "            'financial_goals': spaces.Discrete(3),  # 0 - None, 1 - Buy a Home, 2 - Pay Off Debt\n",
        "        })\n",
        "\n",
        "        # Initialize user's state\n",
        "        self.user_state = {\n",
        "            'credit_score': 700,\n",
        "            'product_history': 0,\n",
        "            'financial_goals': 0\n",
        "        }\n",
        "\n",
        "    def step(self, action):\n",
        "        # Define rewards based on user's interaction\n",
        "        rewards = {\n",
        "            0: 0,  # Do nothing\n",
        "            1: 2,  # Recommend Product A\n",
        "            2: 3,  # Recommend Product B\n",
        "        }\n",
        "        reward = rewards[action]\n",
        "\n",
        "        # Update user's state based on the action (simplified for this example)\n",
        "        if action == 1:\n",
        "            self.user_state['product_history'] = 1\n",
        "        elif action == 2:\n",
        "            self.user_state['product_history'] = 2\n",
        "\n",
        "        # Update credit score (simplified for this example)\n",
        "        self.user_state['credit_score'] += np.random.randint(-10, 10)\n",
        "\n",
        "        # Check if user's financial goals are met\n",
        "        if self.user_state['product_history'] == 1 and self.user_state['financial_goals'] == 1:\n",
        "            done = True\n",
        "        else:\n",
        "            done = False\n",
        "\n",
        "        return self.user_state, reward, done, {}\n",
        "\n",
        "    def reset(self):\n",
        "        # Reset user's state to initial values\n",
        "        self.user_state = {\n",
        "            'credit_score': 700,\n",
        "            'product_history': 0,\n",
        "            'financial_goals': 0\n",
        "        }\n",
        "        return self.user_state\n",
        "\n",
        "    def render(self, mode='human'):\n",
        "        pass\n",
        "\n",
        "# Create an instance of the environment\n",
        "env = CreditKarmaEnv()\n",
        "\n",
        "# Example interaction with the environment\n",
        "obs = env.reset()\n",
        "total_reward = 0\n",
        "\n",
        "for _ in range(10):\n",
        "    action = env.action_space.sample()\n",
        "    obs, reward, done, _ = env.step(action)\n",
        "    total_reward += reward\n",
        "    if done:\n",
        "        break\n",
        "\n",
        "print(\"Total Reward:\", total_reward)\n"
      ]
    },
    {
      "cell_type": "code",
      "source": [
        "# Import libraries\n",
        "import pandas as pd\n",
        "\n",
        "# Sample dataset with customer data\n",
        "data = {\n",
        "    'User ID': [1, 2, 3, 4, 5],\n",
        "    'Credit Score': [720, 650, 780, 600, 700],\n",
        "    'Income': [80000, 95000, 120000, 60000, 85000],\n",
        "    'Life Events': ['Marriage', 'New Job', 'New Baby', 'Marriage', 'New House'],\n",
        "    'Credit Monitoring Alerts': [3, 2, 1, 4, 2],\n",
        "    'Financial Goals': ['Buy a House', 'Retirement', 'College Fund', 'Buy a Car', 'Pay Off Debt'],\n",
        "}\n",
        "\n",
        "df = pd.DataFrame(data)\n",
        "\n",
        "# Define a simple recommendation function\n",
        "def recommend_product(user_profile):\n",
        "    recommendations = []\n",
        "\n",
        "    # Sample rules for product recommendations\n",
        "    if user_profile['Credit Score'] > 700:\n",
        "        recommendations.append('Credit Card Recommendations')\n",
        "\n",
        "    if user_profile['Income'] > 90000:\n",
        "        recommendations.append('Mortgage Pre-Approval')\n",
        "\n",
        "    if 'Marriage' in user_profile['Life Events']:\n",
        "        recommendations.append('Loan Options')\n",
        "\n",
        "    # You can add more rules based on different features\n",
        "\n",
        "    return recommendations\n",
        "\n",
        "# Example user profile (you can replace this with real user data)\n",
        "user_profile = df.iloc[0]\n",
        "\n",
        "# Get product recommendations\n",
        "product_recommendations = recommend_product(user_profile)\n",
        "print(\"Recommended Products:\")\n",
        "for product in product_recommendations:\n",
        "    print(product)\n"
      ],
      "metadata": {
        "colab": {
          "base_uri": "https://localhost:8080/"
        },
        "id": "vsd-Bt_AIOFZ",
        "outputId": "0928cf24-a7e8-43ee-e712-7a26bb2c4bb1"
      },
      "execution_count": 199,
      "outputs": [
        {
          "output_type": "stream",
          "name": "stdout",
          "text": [
            "Recommended Products:\n",
            "Credit Card Recommendations\n",
            "Loan Options\n"
          ]
        }
      ]
    },
    {
      "cell_type": "code",
      "source": [],
      "metadata": {
        "id": "arh8UNlLcu9n",
        "colab": {
          "base_uri": "https://localhost:8080/"
        },
        "outputId": "c4e21edf-7ea0-48d7-d6a4-79c13c57ca92"
      },
      "execution_count": 199,
      "outputs": [
        {
          "output_type": "stream",
          "name": "stderr",
          "text": [
            "/usr/local/lib/python3.10/dist-packages/ipykernel/ipkernel.py:283: DeprecationWarning: `should_run_async` will not call `transform_cell` automatically in the future. Please pass the result to `transformed_cell` argument and any exception that happen during thetransform in `preprocessing_exc_tuple` in IPython 7.17 and above.\n",
            "  and should_run_async(code)\n"
          ]
        }
      ]
    },
    {
      "cell_type": "code",
      "source": [
        "import pandas as pd\n",
        "from sklearn.cluster import KMeans\n",
        "import numpy as np\n",
        "\n",
        "# Example data\n",
        "data = {\n",
        "    'messages_count': [100, 200, 50, 300, 150],\n",
        "    'points': [500, 800, 200, 1000, 600],\n",
        "    'on_call': [1, 0, 1, 1, 0],\n",
        "    'followers_count': [500, 1000, 200, 1500, 800],\n",
        "    'posting_frequency': [10, 15, 5, 20, 12],\n",
        "}\n",
        "\n",
        "df = pd.DataFrame(data)\n",
        "\n",
        "# Specify the number of clusters (you may need to experiment with this)\n",
        "num_clusters = 2\n",
        "\n",
        "# Fit K-Means model\n",
        "kmeans = KMeans(n_clusters=num_clusters, random_state=42)\n",
        "df['cluster'] = kmeans.fit_predict(df)\n",
        "\n",
        "# Assign popularity based on cluster characteristics (you may need to adjust these criteria)\n",
        "popular_clusters = [cluster for cluster in df['cluster'].unique() if df[df['cluster'] == cluster]['points'].mean() > 700 and df[df['cluster'] == cluster]['messages_count'].mean() > 100 and df[df['cluster'] == cluster]['followers_count'].mean() > 500 ]\n",
        "\n",
        "# Create is_popular array based on cluster assignment\n",
        "df['is_popular'] = np.where(df['cluster'].isin(popular_clusters), 1, 0)\n",
        "\n",
        "print(df[['messages_count', 'points', 'on_call', 'followers_count', 'posting_frequency', 'is_popular']])\n",
        "\n",
        "df = pd.DataFrame(df)\n"
      ],
      "metadata": {
        "colab": {
          "base_uri": "https://localhost:8080/"
        },
        "id": "7f98QhZLfxFX",
        "outputId": "88b88cfc-7fc3-4688-915a-e09ef6ef4c88"
      },
      "execution_count": 200,
      "outputs": [
        {
          "output_type": "stream",
          "name": "stdout",
          "text": [
            "   messages_count  points  on_call  followers_count  posting_frequency  \\\n",
            "0             100     500        1              500                 10   \n",
            "1             200     800        0             1000                 15   \n",
            "2              50     200        1              200                  5   \n",
            "3             300    1000        1             1500                 20   \n",
            "4             150     600        0              800                 12   \n",
            "\n",
            "   is_popular  \n",
            "0           0  \n",
            "1           1  \n",
            "2           0  \n",
            "3           1  \n",
            "4           0  \n"
          ]
        },
        {
          "output_type": "stream",
          "name": "stderr",
          "text": [
            "/usr/local/lib/python3.10/dist-packages/sklearn/cluster/_kmeans.py:870: FutureWarning: The default value of `n_init` will change from 10 to 'auto' in 1.4. Set the value of `n_init` explicitly to suppress the warning\n",
            "  warnings.warn(\n"
          ]
        }
      ]
    },
    {
      "cell_type": "code",
      "source": [
        "df.head()"
      ],
      "metadata": {
        "colab": {
          "base_uri": "https://localhost:8080/",
          "height": 260
        },
        "id": "Mpnz2bFVCCkt",
        "outputId": "0209e482-c918-42e7-f02d-bf4c78dc95ba"
      },
      "execution_count": 201,
      "outputs": [
        {
          "output_type": "stream",
          "name": "stderr",
          "text": [
            "/usr/local/lib/python3.10/dist-packages/ipykernel/ipkernel.py:283: DeprecationWarning: `should_run_async` will not call `transform_cell` automatically in the future. Please pass the result to `transformed_cell` argument and any exception that happen during thetransform in `preprocessing_exc_tuple` in IPython 7.17 and above.\n",
            "  and should_run_async(code)\n"
          ]
        },
        {
          "output_type": "execute_result",
          "data": {
            "text/plain": [
              "   messages_count  points  on_call  followers_count  posting_frequency  \\\n",
              "0             100     500        1              500                 10   \n",
              "1             200     800        0             1000                 15   \n",
              "2              50     200        1              200                  5   \n",
              "3             300    1000        1             1500                 20   \n",
              "4             150     600        0              800                 12   \n",
              "\n",
              "   cluster  is_popular  \n",
              "0        0           0  \n",
              "1        1           1  \n",
              "2        0           0  \n",
              "3        1           1  \n",
              "4        0           0  "
            ],
            "text/html": [
              "\n",
              "  <div id=\"df-7ec26fa9-4106-4a58-acae-3be8955beeda\" class=\"colab-df-container\">\n",
              "    <div>\n",
              "<style scoped>\n",
              "    .dataframe tbody tr th:only-of-type {\n",
              "        vertical-align: middle;\n",
              "    }\n",
              "\n",
              "    .dataframe tbody tr th {\n",
              "        vertical-align: top;\n",
              "    }\n",
              "\n",
              "    .dataframe thead th {\n",
              "        text-align: right;\n",
              "    }\n",
              "</style>\n",
              "<table border=\"1\" class=\"dataframe\">\n",
              "  <thead>\n",
              "    <tr style=\"text-align: right;\">\n",
              "      <th></th>\n",
              "      <th>messages_count</th>\n",
              "      <th>points</th>\n",
              "      <th>on_call</th>\n",
              "      <th>followers_count</th>\n",
              "      <th>posting_frequency</th>\n",
              "      <th>cluster</th>\n",
              "      <th>is_popular</th>\n",
              "    </tr>\n",
              "  </thead>\n",
              "  <tbody>\n",
              "    <tr>\n",
              "      <th>0</th>\n",
              "      <td>100</td>\n",
              "      <td>500</td>\n",
              "      <td>1</td>\n",
              "      <td>500</td>\n",
              "      <td>10</td>\n",
              "      <td>0</td>\n",
              "      <td>0</td>\n",
              "    </tr>\n",
              "    <tr>\n",
              "      <th>1</th>\n",
              "      <td>200</td>\n",
              "      <td>800</td>\n",
              "      <td>0</td>\n",
              "      <td>1000</td>\n",
              "      <td>15</td>\n",
              "      <td>1</td>\n",
              "      <td>1</td>\n",
              "    </tr>\n",
              "    <tr>\n",
              "      <th>2</th>\n",
              "      <td>50</td>\n",
              "      <td>200</td>\n",
              "      <td>1</td>\n",
              "      <td>200</td>\n",
              "      <td>5</td>\n",
              "      <td>0</td>\n",
              "      <td>0</td>\n",
              "    </tr>\n",
              "    <tr>\n",
              "      <th>3</th>\n",
              "      <td>300</td>\n",
              "      <td>1000</td>\n",
              "      <td>1</td>\n",
              "      <td>1500</td>\n",
              "      <td>20</td>\n",
              "      <td>1</td>\n",
              "      <td>1</td>\n",
              "    </tr>\n",
              "    <tr>\n",
              "      <th>4</th>\n",
              "      <td>150</td>\n",
              "      <td>600</td>\n",
              "      <td>0</td>\n",
              "      <td>800</td>\n",
              "      <td>12</td>\n",
              "      <td>0</td>\n",
              "      <td>0</td>\n",
              "    </tr>\n",
              "  </tbody>\n",
              "</table>\n",
              "</div>\n",
              "    <div class=\"colab-df-buttons\">\n",
              "\n",
              "  <div class=\"colab-df-container\">\n",
              "    <button class=\"colab-df-convert\" onclick=\"convertToInteractive('df-7ec26fa9-4106-4a58-acae-3be8955beeda')\"\n",
              "            title=\"Convert this dataframe to an interactive table.\"\n",
              "            style=\"display:none;\">\n",
              "\n",
              "  <svg xmlns=\"http://www.w3.org/2000/svg\" height=\"24px\" viewBox=\"0 -960 960 960\">\n",
              "    <path d=\"M120-120v-720h720v720H120Zm60-500h600v-160H180v160Zm220 220h160v-160H400v160Zm0 220h160v-160H400v160ZM180-400h160v-160H180v160Zm440 0h160v-160H620v160ZM180-180h160v-160H180v160Zm440 0h160v-160H620v160Z\"/>\n",
              "  </svg>\n",
              "    </button>\n",
              "\n",
              "  <style>\n",
              "    .colab-df-container {\n",
              "      display:flex;\n",
              "      gap: 12px;\n",
              "    }\n",
              "\n",
              "    .colab-df-convert {\n",
              "      background-color: #E8F0FE;\n",
              "      border: none;\n",
              "      border-radius: 50%;\n",
              "      cursor: pointer;\n",
              "      display: none;\n",
              "      fill: #1967D2;\n",
              "      height: 32px;\n",
              "      padding: 0 0 0 0;\n",
              "      width: 32px;\n",
              "    }\n",
              "\n",
              "    .colab-df-convert:hover {\n",
              "      background-color: #E2EBFA;\n",
              "      box-shadow: 0px 1px 2px rgba(60, 64, 67, 0.3), 0px 1px 3px 1px rgba(60, 64, 67, 0.15);\n",
              "      fill: #174EA6;\n",
              "    }\n",
              "\n",
              "    .colab-df-buttons div {\n",
              "      margin-bottom: 4px;\n",
              "    }\n",
              "\n",
              "    [theme=dark] .colab-df-convert {\n",
              "      background-color: #3B4455;\n",
              "      fill: #D2E3FC;\n",
              "    }\n",
              "\n",
              "    [theme=dark] .colab-df-convert:hover {\n",
              "      background-color: #434B5C;\n",
              "      box-shadow: 0px 1px 3px 1px rgba(0, 0, 0, 0.15);\n",
              "      filter: drop-shadow(0px 1px 2px rgba(0, 0, 0, 0.3));\n",
              "      fill: #FFFFFF;\n",
              "    }\n",
              "  </style>\n",
              "\n",
              "    <script>\n",
              "      const buttonEl =\n",
              "        document.querySelector('#df-7ec26fa9-4106-4a58-acae-3be8955beeda button.colab-df-convert');\n",
              "      buttonEl.style.display =\n",
              "        google.colab.kernel.accessAllowed ? 'block' : 'none';\n",
              "\n",
              "      async function convertToInteractive(key) {\n",
              "        const element = document.querySelector('#df-7ec26fa9-4106-4a58-acae-3be8955beeda');\n",
              "        const dataTable =\n",
              "          await google.colab.kernel.invokeFunction('convertToInteractive',\n",
              "                                                    [key], {});\n",
              "        if (!dataTable) return;\n",
              "\n",
              "        const docLinkHtml = 'Like what you see? Visit the ' +\n",
              "          '<a target=\"_blank\" href=https://colab.research.google.com/notebooks/data_table.ipynb>data table notebook</a>'\n",
              "          + ' to learn more about interactive tables.';\n",
              "        element.innerHTML = '';\n",
              "        dataTable['output_type'] = 'display_data';\n",
              "        await google.colab.output.renderOutput(dataTable, element);\n",
              "        const docLink = document.createElement('div');\n",
              "        docLink.innerHTML = docLinkHtml;\n",
              "        element.appendChild(docLink);\n",
              "      }\n",
              "    </script>\n",
              "  </div>\n",
              "\n",
              "\n",
              "<div id=\"df-bea055e3-c6d2-4caf-8a33-aa876b7082cb\">\n",
              "  <button class=\"colab-df-quickchart\" onclick=\"quickchart('df-bea055e3-c6d2-4caf-8a33-aa876b7082cb')\"\n",
              "            title=\"Suggest charts\"\n",
              "            style=\"display:none;\">\n",
              "\n",
              "<svg xmlns=\"http://www.w3.org/2000/svg\" height=\"24px\"viewBox=\"0 0 24 24\"\n",
              "     width=\"24px\">\n",
              "    <g>\n",
              "        <path d=\"M19 3H5c-1.1 0-2 .9-2 2v14c0 1.1.9 2 2 2h14c1.1 0 2-.9 2-2V5c0-1.1-.9-2-2-2zM9 17H7v-7h2v7zm4 0h-2V7h2v10zm4 0h-2v-4h2v4z\"/>\n",
              "    </g>\n",
              "</svg>\n",
              "  </button>\n",
              "\n",
              "<style>\n",
              "  .colab-df-quickchart {\n",
              "      --bg-color: #E8F0FE;\n",
              "      --fill-color: #1967D2;\n",
              "      --hover-bg-color: #E2EBFA;\n",
              "      --hover-fill-color: #174EA6;\n",
              "      --disabled-fill-color: #AAA;\n",
              "      --disabled-bg-color: #DDD;\n",
              "  }\n",
              "\n",
              "  [theme=dark] .colab-df-quickchart {\n",
              "      --bg-color: #3B4455;\n",
              "      --fill-color: #D2E3FC;\n",
              "      --hover-bg-color: #434B5C;\n",
              "      --hover-fill-color: #FFFFFF;\n",
              "      --disabled-bg-color: #3B4455;\n",
              "      --disabled-fill-color: #666;\n",
              "  }\n",
              "\n",
              "  .colab-df-quickchart {\n",
              "    background-color: var(--bg-color);\n",
              "    border: none;\n",
              "    border-radius: 50%;\n",
              "    cursor: pointer;\n",
              "    display: none;\n",
              "    fill: var(--fill-color);\n",
              "    height: 32px;\n",
              "    padding: 0;\n",
              "    width: 32px;\n",
              "  }\n",
              "\n",
              "  .colab-df-quickchart:hover {\n",
              "    background-color: var(--hover-bg-color);\n",
              "    box-shadow: 0 1px 2px rgba(60, 64, 67, 0.3), 0 1px 3px 1px rgba(60, 64, 67, 0.15);\n",
              "    fill: var(--button-hover-fill-color);\n",
              "  }\n",
              "\n",
              "  .colab-df-quickchart-complete:disabled,\n",
              "  .colab-df-quickchart-complete:disabled:hover {\n",
              "    background-color: var(--disabled-bg-color);\n",
              "    fill: var(--disabled-fill-color);\n",
              "    box-shadow: none;\n",
              "  }\n",
              "\n",
              "  .colab-df-spinner {\n",
              "    border: 2px solid var(--fill-color);\n",
              "    border-color: transparent;\n",
              "    border-bottom-color: var(--fill-color);\n",
              "    animation:\n",
              "      spin 1s steps(1) infinite;\n",
              "  }\n",
              "\n",
              "  @keyframes spin {\n",
              "    0% {\n",
              "      border-color: transparent;\n",
              "      border-bottom-color: var(--fill-color);\n",
              "      border-left-color: var(--fill-color);\n",
              "    }\n",
              "    20% {\n",
              "      border-color: transparent;\n",
              "      border-left-color: var(--fill-color);\n",
              "      border-top-color: var(--fill-color);\n",
              "    }\n",
              "    30% {\n",
              "      border-color: transparent;\n",
              "      border-left-color: var(--fill-color);\n",
              "      border-top-color: var(--fill-color);\n",
              "      border-right-color: var(--fill-color);\n",
              "    }\n",
              "    40% {\n",
              "      border-color: transparent;\n",
              "      border-right-color: var(--fill-color);\n",
              "      border-top-color: var(--fill-color);\n",
              "    }\n",
              "    60% {\n",
              "      border-color: transparent;\n",
              "      border-right-color: var(--fill-color);\n",
              "    }\n",
              "    80% {\n",
              "      border-color: transparent;\n",
              "      border-right-color: var(--fill-color);\n",
              "      border-bottom-color: var(--fill-color);\n",
              "    }\n",
              "    90% {\n",
              "      border-color: transparent;\n",
              "      border-bottom-color: var(--fill-color);\n",
              "    }\n",
              "  }\n",
              "</style>\n",
              "\n",
              "  <script>\n",
              "    async function quickchart(key) {\n",
              "      const quickchartButtonEl =\n",
              "        document.querySelector('#' + key + ' button');\n",
              "      quickchartButtonEl.disabled = true;  // To prevent multiple clicks.\n",
              "      quickchartButtonEl.classList.add('colab-df-spinner');\n",
              "      try {\n",
              "        const charts = await google.colab.kernel.invokeFunction(\n",
              "            'suggestCharts', [key], {});\n",
              "      } catch (error) {\n",
              "        console.error('Error during call to suggestCharts:', error);\n",
              "      }\n",
              "      quickchartButtonEl.classList.remove('colab-df-spinner');\n",
              "      quickchartButtonEl.classList.add('colab-df-quickchart-complete');\n",
              "    }\n",
              "    (() => {\n",
              "      let quickchartButtonEl =\n",
              "        document.querySelector('#df-bea055e3-c6d2-4caf-8a33-aa876b7082cb button');\n",
              "      quickchartButtonEl.style.display =\n",
              "        google.colab.kernel.accessAllowed ? 'block' : 'none';\n",
              "    })();\n",
              "  </script>\n",
              "</div>\n",
              "    </div>\n",
              "  </div>\n"
            ]
          },
          "metadata": {},
          "execution_count": 201
        }
      ]
    },
    {
      "cell_type": "code",
      "source": [
        "import pandas as pd\n",
        "from sklearn.model_selection import train_test_split\n",
        "from sklearn.ensemble import RandomForestClassifier\n",
        "from sklearn.metrics import accuracy_score\n",
        "\n",
        "# Example data\n",
        "data = {\n",
        "    'messages_count': [100, 200, 50, 300, 150],\n",
        "    'points': [500, 800, 200, 1000, 600],\n",
        "    'on_call': [1, 0, 1, 1, 0],\n",
        "    'followers_count': [500, 1000, 200, 1500, 800],\n",
        "    'posting_frequency': [10, 15, 5, 20, 12],\n",
        "}\n",
        "\n",
        "df = pd.DataFrame(data)\n",
        "\n",
        "# Specify the number of clusters\n",
        "num_clusters = 2\n",
        "\n",
        "# Fit K-Means model\n",
        "kmeans = KMeans(n_clusters=num_clusters, random_state=42)\n",
        "df['cluster'] = kmeans.fit_predict(df)\n",
        "\n",
        "# Assign popularity based on cluster characteristics\n",
        "popular_clusters = [cluster for cluster in df['cluster'].unique() if df[df['cluster'] == cluster]['points'].mean() > 700 and df[df['cluster'] == cluster]['messages_count'].mean() > 100 and df[df['cluster'] == cluster]['followers_count'].mean() > 500]\n",
        "\n",
        "# Create is_popular array based on cluster assignment\n",
        "df['is_popular'] = np.where(df['cluster'].isin(popular_clusters), 1, 0)\n",
        "\n",
        "# Split the data into features (X) and target variable (y)\n",
        "X = df.drop(['is_popular', 'cluster'], axis=1)\n",
        "y = df['is_popular']\n",
        "\n",
        "# Split the data into training and testing sets\n",
        "X_train, X_test, y_train, y_test = train_test_split(X, y, test_size=0.2, random_state=42)\n",
        "\n",
        "# Initialize a Random Forest Classifier\n",
        "model = RandomForestClassifier(random_state=42)\n",
        "\n",
        "# Train the model\n",
        "model.fit(X_train, y_train)\n",
        "\n",
        "# Make predictions on the test set\n",
        "y_pred = model.predict(X_test)\n",
        "\n",
        "# Evaluate the model accuracy\n",
        "accuracy = accuracy_score(y_test, y_pred)\n",
        "print(f'Model Accuracy: {accuracy:.2f}')\n",
        "\n",
        "# Use the trained model to predict popularity for new users\n",
        "# Ensure that the order and names of features in 'new_user_features' match the training set\n",
        "new_user_features = pd.DataFrame({\n",
        "    'messages_count': [80],\n",
        "    'points': [400],\n",
        "    'on_call': [1],\n",
        "    'followers_count': [400],\n",
        "    'posting_frequency': [8],\n",
        "})\n",
        "\n",
        "# Ensure that the order and names of features in 'new_user_features' match the training set\n",
        "new_user_features = new_user_features[X_train.columns]\n",
        "\n",
        "prediction = model.predict(new_user_features)\n",
        "print(f'Predicted Popularity: {prediction[0]}')\n"
      ],
      "metadata": {
        "colab": {
          "base_uri": "https://localhost:8080/"
        },
        "id": "HkVSjlQV_811",
        "outputId": "c4ca03d1-bd11-4659-cae5-bca4f1d87403"
      },
      "execution_count": 202,
      "outputs": [
        {
          "output_type": "stream",
          "name": "stderr",
          "text": [
            "/usr/local/lib/python3.10/dist-packages/ipykernel/ipkernel.py:283: DeprecationWarning: `should_run_async` will not call `transform_cell` automatically in the future. Please pass the result to `transformed_cell` argument and any exception that happen during thetransform in `preprocessing_exc_tuple` in IPython 7.17 and above.\n",
            "  and should_run_async(code)\n",
            "/usr/local/lib/python3.10/dist-packages/sklearn/cluster/_kmeans.py:870: FutureWarning: The default value of `n_init` will change from 10 to 'auto' in 1.4. Set the value of `n_init` explicitly to suppress the warning\n",
            "  warnings.warn(\n"
          ]
        },
        {
          "output_type": "stream",
          "name": "stdout",
          "text": [
            "Model Accuracy: 0.00\n",
            "Predicted Popularity: 0\n"
          ]
        }
      ]
    },
    {
      "cell_type": "code",
      "source": [
        "! pip install pykalman"
      ],
      "metadata": {
        "colab": {
          "base_uri": "https://localhost:8080/"
        },
        "id": "Gf2vqe2VMrLp",
        "outputId": "aa0428d6-41a4-45f9-ad82-7037588afbc4"
      },
      "execution_count": null,
      "outputs": [
        {
          "output_type": "stream",
          "name": "stderr",
          "text": [
            "/usr/local/lib/python3.10/dist-packages/ipykernel/ipkernel.py:283: DeprecationWarning: `should_run_async` will not call `transform_cell` automatically in the future. Please pass the result to `transformed_cell` argument and any exception that happen during thetransform in `preprocessing_exc_tuple` in IPython 7.17 and above.\n",
            "  and should_run_async(code)\n"
          ]
        },
        {
          "output_type": "stream",
          "name": "stdout",
          "text": [
            "Requirement already satisfied: pykalman in /usr/local/lib/python3.10/dist-packages (0.9.5)\n"
          ]
        }
      ]
    },
    {
      "cell_type": "code",
      "source": [],
      "metadata": {
        "id": "d62oxJT3duml"
      },
      "execution_count": null,
      "outputs": []
    },
    {
      "cell_type": "code",
      "source": [
        "import numpy as np\n",
        "from pykalman import KalmanFilter\n",
        "import pandas as pd\n",
        "from sklearn.model_selection import train_test_split\n",
        "from sklearn.ensemble import RandomForestClassifier\n",
        "from sklearn.cluster import KMeans\n",
        "from sklearn.metrics import accuracy_score\n",
        "import matplotlib.pyplot as plt\n",
        "\n",
        "\n",
        "data = {\n",
        "    'messages_count': np.random.randint(50, 301, size=100),\n",
        "    'points': np.random.randint(200, 1001, size=100),\n",
        "    'on_call': np.random.choice([0, 1], size=100),\n",
        "    'followers_count': np.random.randint(200, 1501, size=100),\n",
        "    'posting_frequency': np.random.randint(5, 21, size=100),\n",
        "}\n",
        "\n",
        "df = pd.DataFrame(data)\n",
        "\n",
        "df['popular'] = (df['messages_count'] > df['messages_count'].mean() ) & (df['points'] > df['points'].mean() ) & (df['on_call'] > df['on_call'].mean())\n",
        "\n",
        "# Convert boolean values to 1 for True and 0 for False\n",
        "df['popular'] = df['popular'].astype(int)\n",
        "\n",
        "\n",
        "# Split the data into features (X) and target variable (y)\n",
        "X = df.drop(['popular'], axis=1)\n",
        "y = df['popular']\n",
        "\n",
        "# Split the data into training and testing sets\n",
        "X_train, X_test, y_train, y_test = train_test_split(X, y, test_size=0.4, random_state=42)\n",
        "\n",
        "# Initialize a Random Forest Classifier\n",
        "model = RandomForestClassifier(random_state=42)\n",
        "\n",
        "# Train the model\n",
        "model.fit(X_train, y_train)\n",
        "\n",
        "# Make predictions on the test set\n",
        "y_pred = model.predict(X_test)\n",
        "\n",
        "# Evaluate the model accuracy\n",
        "accuracy = accuracy_score(y_test, y_pred)\n",
        "print(f'Model Accuracy: {accuracy:.2f}')\n",
        "\n",
        "# Use the trained model to predict popularity for new users\n",
        "new_user_features = pd.DataFrame({\n",
        "    'messages_count': [344350],\n",
        "    'points': [4080],\n",
        "    'on_call': [188],\n",
        "    'followers_count': [900],\n",
        "    'posting_frequency': [8],\n",
        "})\n",
        "\n",
        "# Ensure that the order and names of features in 'new_user_features' match the training set\n",
        "new_user_features = new_user_features[X_train.columns]\n",
        "\n",
        "# Predict popularity using the Random Forest model\n",
        "prediction = model.predict(new_user_features)\n",
        "\n",
        "# Apply Kalman Filter\n",
        "kf = KalmanFilter(initial_state_mean=y_pred.mean(), n_dim_obs=1)\n",
        "kf = kf.em(y_pred, n_iter=len(y_pred)+1)\n",
        "\n",
        "# initial_covariance = np.eye(len(y_pred))  # Replace 1 with the appropriate dimension\n",
        "\n",
        "initial_covariance = np.eye(len(y_pred))[0, 0]  # Use the first element of the diagonal\n",
        "\n",
        "filtered_state_means, final_prediction = kf.filter_update(\n",
        "    filtered_state_covariance=initial_covariance,\n",
        "    filtered_state_mean=y_pred.mean(),\n",
        "    observation=y_pred\n",
        ")\n",
        "\n",
        "# Final refined prediction\n",
        "# final_prediction = filtered_state_means[-1]\n",
        "print(f'Final Predicted Popularity: {final_prediction[0]}')\n",
        "\n",
        "# Assuming 'y' is the actual values and 'y_pred' is the predicted values\n",
        "\n",
        "# Plotting the actual values\n",
        "plt.plot(range(len(y_test)), y_test, label='Actual', color='blue', marker='o')\n",
        "\n",
        "# Plotting the predicted values\n",
        "plt.plot(range(len(y_pred)), y_pred, label='Predicted', color='red', marker='x')\n",
        "\n",
        "# Adding labels and title\n",
        "plt.xlabel('Sample Index')\n",
        "plt.ylabel('Values')\n",
        "plt.title('Actual vs Predicted Values')\n",
        "plt.legend()\n",
        "\n",
        "# Show the plot\n",
        "plt.show()\n",
        "\n"
      ],
      "metadata": {
        "id": "f2eNYqvJbrV7"
      },
      "execution_count": null,
      "outputs": []
    },
    {
      "cell_type": "code",
      "source": [
        "def apply_kalman_filter(predictions):\n",
        "    kf = KalmanFilter(\n",
        "        initial_state_mean=predictions.mean(),\n",
        "        n_dim_obs=1\n",
        "    )\n",
        "    initial_covariance = np.eye(len(y_pred))[0, 0]  # Use the first element of the diagonal\n",
        "\n",
        "    filtered_state_means, final_prediction = kf.filter_update(\n",
        "        filtered_state_covariance=initial_covariance,\n",
        "        filtered_state_mean=y_pred.mean(),\n",
        "        observation=y_pred\n",
        ")\n",
        "\n",
        "\n",
        "    return filtered_state_means.flatten(), final_prediction.flatten()\n",
        "\n",
        "# Update the belief using Kalman Filter on predicted values\n",
        "filtered_state_means, final_prediction = apply_kalman_filter(y_pred[:, None])  # Convert y_pred to a column vector\n",
        "\n",
        "# Convert the filtered state means to binary predictions\n",
        "binary_predictions = np.where(filtered_state_means > 0.5, 1, 0)\n",
        "\n",
        "# Evaluate the model accuracy after Kalman Filter update\n",
        "accuracy_after_kalman = accuracy_score(y_test, binary_predictions)\n",
        "print(f'Model Accuracy after Kalman Filter: {accuracy_after_kalman:.2f}')\n",
        "\n",
        "\n",
        "#  Plotting the actual values\n",
        "plt.plot(range(len(y_test)), y_test, label='Actual', color='blue', marker='o')\n",
        "\n",
        "# Plotting the predicted values\n",
        "plt.plot(range(len(binary_predictions)), binary_predictions, label='Predicted', color='red', marker='x')\n",
        "\n",
        "# Adding labels and title\n",
        "plt.xlabel('Sample Index')\n",
        "plt.ylabel('Values')\n",
        "plt.title('Actual vs Predicted Values')\n",
        "plt.legend()\n",
        "\n",
        "# Show the plot\n",
        "plt.show()"
      ],
      "metadata": {
        "id": "FpCKN5LcpkND"
      },
      "execution_count": null,
      "outputs": []
    },
    {
      "cell_type": "code",
      "source": [],
      "metadata": {
        "id": "CWUY5_KFk7xa"
      },
      "execution_count": null,
      "outputs": []
    },
    {
      "cell_type": "code",
      "source": [],
      "metadata": {
        "id": "bTKHF5MwejI8"
      },
      "execution_count": null,
      "outputs": []
    },
    {
      "cell_type": "code",
      "source": [],
      "metadata": {
        "id": "pj8CWInTfGm_"
      },
      "execution_count": null,
      "outputs": []
    },
    {
      "cell_type": "code",
      "source": [],
      "metadata": {
        "id": "P7mfTjW9fh7t"
      },
      "execution_count": null,
      "outputs": []
    },
    {
      "cell_type": "code",
      "source": [],
      "metadata": {
        "id": "51UNAtwfg4GJ"
      },
      "execution_count": null,
      "outputs": []
    },
    {
      "cell_type": "code",
      "source": [],
      "metadata": {
        "id": "DPxXohIUh1tw"
      },
      "execution_count": null,
      "outputs": []
    },
    {
      "cell_type": "code",
      "source": [],
      "metadata": {
        "id": "5NSJtgZvdq3y"
      },
      "execution_count": null,
      "outputs": []
    },
    {
      "cell_type": "code",
      "source": [],
      "metadata": {
        "id": "dReMTnSobrpQ"
      },
      "execution_count": null,
      "outputs": []
    },
    {
      "cell_type": "code",
      "source": [],
      "metadata": {
        "id": "ahU2Df64co-c"
      },
      "execution_count": null,
      "outputs": []
    },
    {
      "cell_type": "code",
      "source": [],
      "metadata": {
        "id": "BMyPOJgUdBca"
      },
      "execution_count": null,
      "outputs": []
    },
    {
      "cell_type": "code",
      "source": [
        "import pandas as pd\n",
        "import matplotlib.pyplot as plt\n",
        "\n",
        "# Assume you have internal data related to website performance\n",
        "# For the sake of example, let's create a DataFrame with some sample data\n",
        "data = {\n",
        "    'Date': pd.date_range(start='2023-01-01', periods=30, freq='D'),\n",
        "    'PageLoadTime': [2.5, 2.7, 2.8, 3.2, 2.9, 3.5, 4.0, 4.2, 4.5, 4.8, 5.0, 5.2, 5.5, 5.1, 5.0, 4.9, 4.8, 4.5, 4.3, 4.2, 4.1, 3.8, 3.5, 3.2, 2.8, 2.5, 2.3, 2.1, 1.8, 1.5],\n",
        "}\n",
        "\n",
        "df = pd.DataFrame(data)\n",
        "\n",
        "# Plotting the Page Load Time over the given period\n",
        "plt.plot(df['Date'], df['PageLoadTime'], marker='o', linestyle='-')\n",
        "plt.title('Website Performance Over Time')\n",
        "plt.xlabel('Date')\n",
        "plt.ylabel('Page Load Time (seconds)')\n",
        "plt.xticks(rotation=45)\n",
        "plt.grid(True)\n",
        "plt.show()\n"
      ],
      "metadata": {
        "id": "HOHIK8dmdNm9"
      },
      "execution_count": null,
      "outputs": []
    },
    {
      "cell_type": "code",
      "source": [],
      "metadata": {
        "id": "2m6Qc61hwQJm"
      },
      "execution_count": null,
      "outputs": []
    },
    {
      "cell_type": "code",
      "source": [
        "def format_duration(seconds):\n",
        "    minutes, seconds = divmod(seconds, 60)\n",
        "    hours, minutes = divmod(minutes, 60)\n",
        "\n",
        "    # Use f-strings for a concise way to format the duration\n",
        "    duration_str = f\"{int(hours)}h {int(minutes)}m {int(seconds)}s\"\n",
        "\n",
        "    return duration_str\n",
        "\n",
        "# Example usage:\n",
        "duration_in_seconds = 3211  # Replace with your duration\n",
        "formatted_duration = format_duration(duration_in_seconds)\n",
        "print(formatted_duration)"
      ],
      "metadata": {
        "id": "eyGBs4CMYYSr"
      },
      "execution_count": null,
      "outputs": []
    },
    {
      "cell_type": "code",
      "source": [],
      "metadata": {
        "id": "VbCL3DPNq9bf"
      },
      "execution_count": null,
      "outputs": []
    },
    {
      "cell_type": "code",
      "source": [
        "from keras.preprocessing.text import Tokenizer\n",
        "\n",
        "text_data = [\"This is a sample sentence.\", \"Another sentence here.\"]\n",
        "tokenizer = Tokenizer()\n",
        "tokenizer.fit_on_texts(text_data)\n",
        "\n",
        "# Tokenize text\n",
        "sequences = tokenizer.texts_to_sequences(text_data)\n",
        "print(\"Tokenized sequences:\", sequences)\n",
        "\n",
        "# Word index mapping\n",
        "word_index = tokenizer.word_index\n",
        "print(\"Word index:\", word_index)\n"
      ],
      "metadata": {
        "id": "7MTlq9YWq95F"
      },
      "execution_count": null,
      "outputs": []
    },
    {
      "cell_type": "code",
      "source": [],
      "metadata": {
        "id": "CfPaOYDZuP2h"
      },
      "execution_count": null,
      "outputs": []
    },
    {
      "cell_type": "code",
      "source": [
        "import pandas as pd\n",
        "from sklearn.preprocessing import MultiLabelBinarizer\n",
        "from sklearn.metrics.pairwise import cosine_similarity\n",
        "from keras.preprocessing.sequence import pad_sequences\n",
        "\n",
        "# Sample data with user_id and interest_sentences\n",
        "data = {'user_id': [1, 2, 3, 4, 5, 6],\n",
        "        'interest_sentences': ['programming and data science', 'machine learning enthusiast', 'travel and photography', 'python developer', 'music lover', 'programming and art']}\n",
        "\n",
        "df = pd.DataFrame(data)\n",
        "\n",
        "# Tokenize and pad sequences\n",
        "tokenizer = Tokenizer()\n",
        "tokenizer.fit_on_texts(df['interest_sentences'])\n",
        "df['interest_sequences'] = tokenizer.texts_to_sequences(df['interest_sentences'])\n",
        "df['interest_sequences'] = pad_sequences(df['interest_sequences'], padding='post')\n",
        "\n",
        "# Convert interest sequences to binary bag-of-words representation using MultiLabelBinarizer\n",
        "mlb = MultiLabelBinarizer()\n",
        "interest_matrix = mlb.fit_transform(df['interest_sequences'].apply(lambda x: [str(x)]))\n",
        "\n",
        "# Calculate cosine similarity matrix\n",
        "cosine_sim = cosine_similarity(interest_matrix, interest_matrix)\n",
        "\n",
        "# Function to get similar users based on interests\n",
        "def get_similar_users(user_id, similarity_matrix, threshold=0.5):\n",
        "    user_index = df[df['user_id'] == user_id].index[0]\n",
        "    similar_users = [(df['user_id'][i], cosine_sim[user_index, i]) for i in range(len(df)) if i != user_index and cosine_sim[user_index, i] > threshold]\n",
        "    similar_users.sort(key=lambda x: x[1], reverse=True)\n",
        "    return similar_users\n",
        "\n",
        "# Example usage\n",
        "id_i = 1\n",
        "similar_users = get_similar_users(id_i, cosine_sim)\n",
        "\n",
        "print(f\"Users similar to user {id_i} based on interests:\")\n",
        "for user, similarity in similar_users:\n",
        "    print(f\"User {user} (Similarity: {similarity:.2f})\")\n"
      ],
      "metadata": {
        "id": "ErAdyiH2tPgW"
      },
      "execution_count": null,
      "outputs": []
    },
    {
      "cell_type": "code",
      "source": [
        "similar_users"
      ],
      "metadata": {
        "id": "-hLkZWH_tZQ2"
      },
      "execution_count": null,
      "outputs": []
    },
    {
      "cell_type": "markdown",
      "source": [
        "DDPG"
      ],
      "metadata": {
        "id": "ZFbgohbnBRHv"
      }
    },
    {
      "cell_type": "code",
      "source": [],
      "metadata": {
        "id": "4A1I_CoyBfUX"
      },
      "execution_count": null,
      "outputs": []
    },
    {
      "cell_type": "code",
      "source": [
        "text = \"The price is $19.99.\"\n",
        "cleaned_text = ''.join(c for c in text if not c.isdigit())\n",
        "print(cleaned_text)\n"
      ],
      "metadata": {
        "id": "diOoLgpuBtqm"
      },
      "execution_count": null,
      "outputs": []
    },
    {
      "cell_type": "code",
      "source": [
        "pip install nltk beautifulsoup4\n"
      ],
      "metadata": {
        "id": "eIEToqy_EK4p"
      },
      "execution_count": null,
      "outputs": []
    },
    {
      "cell_type": "code",
      "source": [
        "import nltk\n",
        "nltk.download('stopwords')\n",
        "nltk.download('punkt')\n",
        "nltk.download('wordnet')\n"
      ],
      "metadata": {
        "id": "-VnboOWMEPUw"
      },
      "execution_count": null,
      "outputs": []
    },
    {
      "cell_type": "code",
      "source": [
        "import nltk\n",
        "\n",
        "from nltk.corpus import stopwords\n",
        "from nltk.tokenize import word_tokenize\n",
        "\n",
        "text = \"This is an example sentence.\"\n",
        "stop_words = set(stopwords.words(\"english\"))\n",
        "words = word_tokenize(text)\n",
        "cleaned_text = ' '.join(word for word in words if word.lower() not in stop_words)\n",
        "print(cleaned_text)\n"
      ],
      "metadata": {
        "id": "EfzVctgzD00P"
      },
      "execution_count": null,
      "outputs": []
    },
    {
      "cell_type": "code",
      "source": [
        "from bs4 import BeautifulSoup\n",
        "\n",
        "html_text = \"<p>This is <b>HTML</b> text.</p>\"\n",
        "soup = BeautifulSoup(html_text, \"html.parser\")\n",
        "cleaned_text = soup.get_text()\n",
        "print(cleaned_text)\n"
      ],
      "metadata": {
        "id": "vHPNiTYLD6Ng"
      },
      "execution_count": null,
      "outputs": []
    },
    {
      "cell_type": "code",
      "source": [],
      "metadata": {
        "id": "EI2LnmcCEBsR"
      },
      "execution_count": null,
      "outputs": []
    }
  ]
}